{
 "cells": [
  {
   "cell_type": "code",
   "execution_count": 8,
   "metadata": {},
   "outputs": [],
   "source": [
    "from PIL import Image\n",
    "import numpy as np\n",
    "def find_rgb(filepath, r_threshold, g_threshold, b_threshold):\n",
    "    img = Image.open(filepath)\n",
    "    pix = img.load()\n",
    "    coordinates= []\n",
    "    for x in range(img.size[0]):\n",
    "        for y in range(img.size[1]):\n",
    "            r, g, b = pix[x,y]\n",
    "            if match(r, g, b, r_threshold, g_threshold, b_threshold):\n",
    "                coordinates.append((x, y))\n",
    "    return(coordinates)\n",
    "\n",
    "\n",
    "def match(r, g, b, r_query, g_query, b_query):\n",
    "    if r >= r_query and g >= g_query and b>=b_query:\n",
    "        return True\n",
    "    else:\n",
    "        return False"
   ]
  },
  {
   "cell_type": "code",
   "execution_count": null,
   "metadata": {},
   "outputs": [],
   "source": [
    "#black is 000\n",
    "#dark grey 105\n",
    "#light grey is 195\n",
    "\n",
    "find_rgb('test_image.png', 105, 105, 105)"
   ]
  },
  {
   "cell_type": "code",
   "execution_count": 53,
   "metadata": {},
   "outputs": [],
   "source": [
    "#mark vein cells \n",
    "img = Image.open('TestImage2.png')\n",
    "img_width = img.size[0]\n",
    "img_height = img.size[1]\n",
    "bin_img = np.zeros((img_width, img_height))\n",
    "thresh_1 = 200\n",
    "thresh_2 = 50\n",
    "pix = img.load()\n",
    "for x in range(img_width):\n",
    "    for y in range(img_height):\n",
    "        r,g,b = pix[x,y]\n",
    "        if r > thresh_2 and r < thresh_1:\n",
    "            bin_img[x,y] = 1\n",
    "\n",
    "        \n",
    "            \n",
    "            \n",
    "        \n",
    "        \n",
    "        \n",
    "        \n",
    "     "
   ]
  },
  {
   "cell_type": "code",
   "execution_count": 73,
   "metadata": {},
   "outputs": [],
   "source": [
    "#find edges\n",
    "\n",
    "vein_coords = []\n",
    "for x in range(img_width):\n",
    "    for y in range(img_height):\n",
    "            if bin_img[x,y] == 1:\n",
    "                vein_coords.append((x,y))\n"
   ]
  },
  {
   "cell_type": "code",
   "execution_count": 72,
   "metadata": {},
   "outputs": [
    {
     "name": "stdout",
     "output_type": "stream",
     "text": [
      "(185, 261)\n"
     ]
    }
   ],
   "source": [
    "#vein_coords = sorted(vein_coords)\n",
    "vein_start = vein_coords[0]\n",
    "\n"
   ]
  }
 ],
 "metadata": {
  "kernelspec": {
   "display_name": "Python 3",
   "language": "python",
   "name": "python3"
  },
  "language_info": {
   "codemirror_mode": {
    "name": "ipython",
    "version": 3
   },
   "file_extension": ".py",
   "mimetype": "text/x-python",
   "name": "python",
   "nbconvert_exporter": "python",
   "pygments_lexer": "ipython3",
   "version": "3.7.3"
  }
 },
 "nbformat": 4,
 "nbformat_minor": 2
}
