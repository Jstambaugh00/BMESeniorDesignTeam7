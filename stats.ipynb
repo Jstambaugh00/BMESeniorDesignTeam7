{
 "cells": [
  {
   "cell_type": "code",
   "execution_count": 10,
   "metadata": {},
   "outputs": [],
   "source": [
    "import numpy as np\n",
    "from scipy import stats\n",
    "import seaborn as sns\n",
    "import pandas as pd\n"
   ]
  },
  {
   "cell_type": "code",
   "execution_count": 2,
   "metadata": {},
   "outputs": [
    {
     "name": "stdout",
     "output_type": "stream",
     "text": [
      "0.001735429589931765\n"
     ]
    }
   ],
   "source": [
    "# test 1\n",
    "McCarty = np.array([0,0,0,0,1,1,1,1,1,1])\n",
    "expected = np.array([0,0,0,0,0,0,0,0,0,0])\n",
    "t,p= stats.ttest_ind(McCarty,expected)\n",
    "print(p)\n",
    "\n"
   ]
  },
  {
   "cell_type": "code",
   "execution_count": 3,
   "metadata": {},
   "outputs": [
    {
     "name": "stdout",
     "output_type": "stream",
     "text": [
      "0.024769558804109703\n"
     ]
    }
   ],
   "source": [
    "# test 2\n",
    "Weisenbeck = np.array([0,0,0,0,0,0,1,1,1,1])\n",
    "t,p= stats.ttest_ind(Weisenbeck,expected)\n",
    "print(p)"
   ]
  },
  {
   "cell_type": "code",
   "execution_count": 4,
   "metadata": {},
   "outputs": [
    {
     "name": "stdout",
     "output_type": "stream",
     "text": [
      "0.007685412140314308\n"
     ]
    }
   ],
   "source": [
    "# test 3\n",
    "Wilson = np.array([0,0,0,0,0,1,1,1,1,1])\n",
    "t,p= stats.ttest_ind(Wilson,expected)\n",
    "print(p)"
   ]
  },
  {
   "cell_type": "code",
   "execution_count": 45,
   "metadata": {},
   "outputs": [],
   "source": [
    "acc=[70,60,60]\n",
    "\n",
    "lab=['Nurse 1', 'Nurse 2', 'Nurse 3']\n",
    "\n",
    "d={'Accuracy':acc,'Nurse':lab}\n",
    "df=pd.DataFrame(d)\n",
    "\n",
    "df.index=lab"
   ]
  },
  {
   "cell_type": "code",
   "execution_count": 81,
   "metadata": {},
   "outputs": [
    {
     "data": {
      "image/png": "[encoded data removed]",
      "text/plain": [
       "<Figure size 324x108 with 1 Axes>"
      ]
     },
     "metadata": {
      "needs_background": "light"
     },
     "output_type": "display_data"
    }
   ],
   "source": [
    "\n",
    "# import libraries\n",
    "import pandas as pd\n",
    "import matplotlib.pyplot as plt\n",
    "import numpy as np\n",
    "%matplotlib inline\n",
    "\n",
    "# set font\n",
    "plt.rcParams['font.family'] = 'sans-serif'\n",
    "plt.rcParams['font.sans-serif'] = 'Helvetica'\n",
    "\n",
    "# set the style of the axes and the text color\n",
    "plt.rcParams['axes.edgecolor']='#333F4B'\n",
    "plt.rcParams['axes.linewidth']=0.8\n",
    "plt.rcParams['xtick.color']='#333F4B'\n",
    "plt.rcParams['ytick.color']='#333F4B'\n",
    "plt.rcParams['text.color']='#333F4B'\n",
    "\n",
    "import matplotlib.ticker as ticker\n",
    "\n",
    "# we first need a numeric placeholder for the y axis\n",
    "my_range=list(range(1,len(df.index)+1))\n",
    "\n",
    "fig, ax = plt.subplots(figsize=(4.5,1.5))\n",
    "\n",
    "# create for each expense type an horizontal line that starts at x = 0 with the length \n",
    "# represented by the specific expense percentage value.\n",
    "plt.hlines(y=my_range, xmin=0, xmax=df['Accuracy'], color='#007ACC', alpha=0.2, linewidth=7)\n",
    "\n",
    "# create for each expense type a dot at the level of the expense percentage value\n",
    "plt.plot(df['Accuracy'], my_range, \"o\", markersize=7, color='#007ACC', alpha=0.6)\n",
    "\n",
    "# set labels\n",
    "ax.set_xlabel('Accuracy (%)', fontsize=14, fontweight='black', color = '#333F4B')\n",
    "ax.set_ylabel('')\n",
    "\n",
    "# set axis\n",
    "ax.tick_params(axis='both', which='major', labelsize=12)\n",
    "plt.yticks(my_range, df.index)\n",
    "ax.yaxis.set_tick_params(labelsize=14, color = '#333F4B')\n",
    "\n",
    "# add an horizonal label for the y axis \n",
    "fig.text(0.15, 0.96, 'Venipuncture Device Accuracy', fontsize=15, fontweight='black', color = '#333F4B')\n",
    "\n",
    "# change the style of the axis spines\n",
    "ax.spines['top'].set_visible(False)\n",
    "ax.spines['right'].set_visible(False)\n",
    "\n",
    "ax.spines['left'].set_bounds((1, len(my_range)))\n",
    "ax.set_xlim(0,100)\n",
    "\n",
    "ax.spines['left'].set_position(('outward', 8))\n",
    "ax.spines['bottom'].set_position(('outward', 5))\n"
   ]
  },
  {
   "cell_type": "code",
   "execution_count": 26,
   "metadata": {},
   "outputs": [
    {
     "data": {
      "text/plain": [
       "[1, 2, 3]"
      ]
     },
     "execution_count": 26,
     "metadata": {},
     "output_type": "execute_result"
    }
   ],
   "source": [
    "my_range"
   ]
  }
 ],
 "metadata": {
  "kernelspec": {
   "display_name": "Python 3",
   "language": "python",
   "name": "python3"
  },
  "language_info": {
   "codemirror_mode": {
    "name": "ipython",
    "version": 3
   },
   "file_extension": ".py",
   "mimetype": "text/x-python",
   "name": "python",
   "nbconvert_exporter": "python",
   "pygments_lexer": "ipython3",
   "version": "3.8.5"
  }
 },
 "nbformat": 4,
 "nbformat_minor": 4
}
