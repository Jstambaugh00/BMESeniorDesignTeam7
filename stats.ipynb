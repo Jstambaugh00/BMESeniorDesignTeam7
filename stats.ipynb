{
 "cells": [
  {
   "cell_type": "code",
   "execution_count": 50,
   "metadata": {},
   "outputs": [],
   "source": [
    "import numpy as np\n",
    "from scipy import stats"
   ]
  },
  {
   "cell_type": "code",
   "execution_count": 46,
   "metadata": {},
   "outputs": [
    {
     "name": "stdout",
     "output_type": "stream",
     "text": [
      "0.001735429589931765\n"
     ]
    }
   ],
   "source": [
    "# test 1\n",
    "McCarty = np.array([0,0,0,0,1,1,1,1,1,1])\n",
    "expected = np.array([0,0,0,0,0,0,0,0,0,0])\n",
    "t,p= stats.ttest_ind(McCarty,expected)\n",
    "print(p)"
   ]
  },
  {
   "cell_type": "code",
   "execution_count": 47,
   "metadata": {},
   "outputs": [
    {
     "name": "stdout",
     "output_type": "stream",
     "text": [
      "0.024769558804109703\n"
     ]
    }
   ],
   "source": [
    "# test 2\n",
    "Weisenbeck = np.array([0,0,0,0,0,0,1,1,1,1])\n",
    "t,p= stats.ttest_ind(Weisenbeck,expected)\n",
    "print(p)"
   ]
  },
  {
   "cell_type": "code",
   "execution_count": 49,
   "metadata": {},
   "outputs": [
    {
     "name": "stdout",
     "output_type": "stream",
     "text": [
      "0.007685412140314308\n"
     ]
    }
   ],
   "source": [
    "# test 3\n",
    "Wilson = np.array([0,0,0,0,0,1,1,1,1,1])\n",
    "t,p= stats.ttest_ind(Wilson,expected)\n",
    "print(p)"
   ]
  }
 ],
 "metadata": {
  "kernelspec": {
   "display_name": "Python 3",
   "language": "python",
   "name": "python3"
  },
  "language_info": {
   "codemirror_mode": {
    "name": "ipython",
    "version": 3
   },
   "file_extension": ".py",
   "mimetype": "text/x-python",
   "name": "python",
   "nbconvert_exporter": "python",
   "pygments_lexer": "ipython3",
   "version": "3.8.5"
  }
 },
 "nbformat": 4,
 "nbformat_minor": 4
}
